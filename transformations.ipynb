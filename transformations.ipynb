{
 "cells": [
  {
   "cell_type": "markdown",
   "metadata": {},
   "source": [
    "### Custom Homography Tutorial\n",
    "\n",
    "Here, we will go over how to create custom Homography transformations to images on an in-depth level. "
   ]
  },
  {
   "cell_type": "markdown",
   "metadata": {},
   "source": [
    "#### Sources\n",
    "\n",
    "1. Tutorial on making plots interactive: https://www.geeksforgeeks.org/make-3d-interactive-matplotlib-plot-in-jupyter-notebook/\n",
    "2. Explanation of how homographies work: https://docs.opencv.org/4.x/d9/dab/tutorial_homography.html\n",
    "3. 2x2 Image Transformations Explanation Video: https://youtu.be/K2XLXlyPqCA\n",
    "4. 3x3 Image Transformations Explanation Video: https://www.youtube.com/watch?v=B8kMB6Hv2eI\n",
    "5. Computing Homographies for Image Stitching Video: https://www.youtube.com/watch?v=l_qjO4cM74o\n",
    "6. How to create 3D Surfaces Tutorial: https://www.geeksforgeeks.org/three-dimensional-plotting-in-python-using-matplotlib/\n",
    "7. Image Warping without `Skimage`: https://stackoverflow.com/questions/70311373/applying-homography-transformation-in-python-without-using-opencv\n",
    "8. Applying homographies with OpenCV: https://learnopencv.com/homography-examples-using-opencv-python-c/\n",
    "9. Homographies with Image Processing: https://mattmaulion.medium.com/homography-transform-image-processing-eddbcb8e4ff7#:~:text=Homography%2C%20also%20referred%20to%20as,in%20a%20homogenous%20coordinates%20space"
   ]
  },
  {
   "cell_type": "markdown",
   "metadata": {},
   "source": [
    "### Import the required Python libraries for this notebook."
   ]
  },
  {
   "cell_type": "code",
   "execution_count": 4,
   "metadata": {},
   "outputs": [
    {
     "name": "stdout",
     "output_type": "stream",
     "text": [
      "Warning: Cannot change to a different GUI toolkit: widget. Using notebook instead.\n"
     ]
    }
   ],
   "source": [
    "# Required commands to show interactive 3D plots\n",
    "%matplotlib notebook\n",
    "%matplotlib widget\n",
    "%matplotlib inline"
   ]
  },
  {
   "cell_type": "code",
   "execution_count": 5,
   "metadata": {},
   "outputs": [],
   "source": [
    "from mpl_toolkits.mplot3d import Axes3D\n",
    "import matplotlib.pyplot as plt\n",
    "from mpl_toolkits.mplot3d.art3d import Poly3DCollection\n",
    "\n",
    "import functools\n",
    "import numpy as np\n",
    "from matplotlib.colors import LinearSegmentedColormap\n",
    "from sklearn.preprocessing import normalize\n",
    "\n",
    "import math\n",
    "import numpy.matlib as npm\n",
    "import cv2"
   ]
  },
  {
   "cell_type": "markdown",
   "metadata": {},
   "source": [
    "### Let's start by creating some functions that will allow us to apply image transformations on custom images!"
   ]
  },
  {
   "cell_type": "markdown",
   "metadata": {},
   "source": [
    "The functions below allow us to transform objects of interest from a 3D space to a 2D space. This is only half the process since we want to transform objects from a 2D plane to another 2D plane, just from a different perspective (i.e. rotation, warping, etc.). \n",
    "\n",
    "We consider a range of different transformations that we can apply to an image to mimic the effects of utilizing the imported `Skimage` transformation functions."
   ]
  },
  {
   "cell_type": "markdown",
   "metadata": {},
   "source": [
    "### First, let's define functions that will help us plot 2D objects utilizing homographies."
   ]
  },
  {
   "cell_type": "code",
   "execution_count": 6,
   "metadata": {},
   "outputs": [],
   "source": [
    "def get_rid_of_z_dimension(array_3D):\n",
    "    '''\n",
    "        This function removes the last dimension of a 3D input space to reflect the 3D -> 2D image transformation notion. \n",
    "        Recall that the overall tranformation requires an object to go through 2D -> 3D -> 2D spaces, so this function actually \n",
    "        performs the second half of this transition.\n",
    "\n",
    "        Params: array_3D (a 3D tensor array of the form nx3).\n",
    "        Returns: a 2D array of the same array (minus the last dimnesion) in the form nx2.\n",
    "    '''\n",
    "\n",
    "    return np.delete(array_3D, -1, axis=-1)\n",
    "\n",
    "\n",
    "def plot_tensor(tensor):\n",
    "    '''\n",
    "        This function plots a tensor that can be in 2D or 3D form.\n",
    "\n",
    "        Params: tensor (a 2D or 3D tensor - can be whichever).\n",
    "        Returns: None (but plots the input tensor).\n",
    "    '''\n",
    "\n",
    "    # Plot color points onto a 3D space\n",
    "    cmap_colors = [(0, 'red'), (1, 'blue'), (1, 'green')]\n",
    "    custom_cmap = LinearSegmentedColormap.from_list('custom', cmap_colors)\n",
    "\n",
    "    num_dimensions = 2\n",
    "\n",
    "    num_points = int(math.sqrt(tensor.shape[0]))\n",
    "\n",
    "    # Custom threshold\n",
    "    lowest_color_value = 0.2\n",
    "    highest_color_value = 0.8\n",
    "\n",
    "    x_color = np.linspace(lowest_color_value, highest_color_value/num_dimensions, num_points)\n",
    "    y_color = np.linspace(lowest_color_value, highest_color_value/num_dimensions, num_points)\n",
    "\n",
    "    # Meshgrid allows us to compute gradients\n",
    "    X_color, Y_color = np.meshgrid(x_color, y_color)\n",
    "\n",
    "    # Combine data for both dimensions into a single variable\n",
    "    combined_data = X_color + Y_color  # You can use a different combination as needed\n",
    "\n",
    "    # Apply the custom colormap to the combined data\n",
    "    color = custom_cmap(combined_data)\n",
    "\n",
    "    # Make sure the color is in the right form (num of data points x 4), so we have a \n",
    "    # color for each datapoint\n",
    "    color_new = color.reshape((-1, 4))\n",
    "\n",
    "\n",
    "    if len(tensor.shape) == 2:\n",
    "        # Create a figure and axis\n",
    "        fig = plt.figure()\n",
    "        ax = fig.add_subplot(111, projection='3d')\n",
    "\n",
    "\n",
    "        ######################################################\n",
    "        ##############$$     3D Tensor     ###################\n",
    "        ######################################################\n",
    "\n",
    "        if tensor.shape[-1] == 3:\n",
    "\n",
    "            # Display the computed points\n",
    "            ax.scatter(tensor[:,0], tensor[:,1], tensor[:,2], c=color_new, cmap=custom_cmap, s=50, marker='o')\n",
    "\n",
    "            # # Set the 3D axis limits so we can view everything\n",
    "            # min_val = min(tensor.flatten())\n",
    "            # max_val = max(tensor.flatten())\n",
    "\n",
    "            # ax.set_xlim(min_val, max_val)\n",
    "            # ax.set_ylim(min_val, max_val)\n",
    "            # ax.set_zlim(min_val, max_val)\n",
    "\n",
    "            plt.show()\n",
    "\n",
    "\n",
    "        ######################################################\n",
    "        ##############$$     2D Tensor     ###################\n",
    "        ######################################################\n",
    "\n",
    "        elif tensor.shape[-1] == 2:\n",
    "            # Create a figure and axis\n",
    "            fig = plt.figure()\n",
    "            ax = fig.add_subplot(111)\n",
    "            \n",
    "            # Display the computed points\n",
    "            ax.scatter(tensor[:,0], tensor[:,1], c=color_new, cmap=custom_cmap, s=50, marker='o')\n",
    "\n",
    "            # # Set the 3D axis limits so we can view everything\n",
    "            # min_val = min(tensor.flatten())\n",
    "            # max_val = max(tensor.flatten())\n",
    "\n",
    "            # ax.set_xlim(min_val, max_val)\n",
    "            # ax.set_ylim(min_val, max_val)\n",
    "\n",
    "            plt.show()\n",
    "    return"
   ]
  },
  {
   "cell_type": "markdown",
   "metadata": {},
   "source": [
    "### Next, let's define functions that illustrate the specific transformations we can apply to our input image(s)!"
   ]
  },
  {
   "cell_type": "markdown",
   "metadata": {},
   "source": [
    "#### Rotation"
   ]
  },
  {
   "cell_type": "code",
   "execution_count": 7,
   "metadata": {},
   "outputs": [],
   "source": [
    "def create_rotation_matrix_clockwise(degrees):\n",
    "    '''\n",
    "        This function creates a rotation matrix to which we can apply to images in order to rotate\n",
    "        them counter-clockwise by some degree.\n",
    "\n",
    "        Params: degrees (the number of degrees to specify the extent of our rotation).\n",
    "        Returns: a matrix that represents the rotation of an image.\n",
    "    '''\n",
    "\n",
    "    radians = math.radians(degrees)     # Convert degrees to radians\n",
    "\n",
    "    cos_theta = math.cos(radians)\n",
    "    sin_theta = math.sin(radians)\n",
    "\n",
    "    # Compute the rotation matrix\n",
    "    rotation_matrix = np.array([[cos_theta, -sin_theta, 0],\n",
    "                                [sin_theta, cos_theta, 0],\n",
    "                                [0, 0, 1]])\n",
    "\n",
    "    return rotation_matrix"
   ]
  },
  {
   "cell_type": "markdown",
   "metadata": {},
   "source": [
    "#### Translation"
   ]
  },
  {
   "cell_type": "code",
   "execution_count": 8,
   "metadata": {},
   "outputs": [],
   "source": [
    "def create_translation_matrix(dx, dy, dz = 0, dims = 2):\n",
    "    '''\n",
    "        This function creates a translation matrix to which we can apply to images by specifying the extent of \n",
    "        the image's x, y, and z displacement.\n",
    "\n",
    "        Params: dx (the change in displacement in the x-direction).\n",
    "                dy (the change in displacement in the y-direction).\n",
    "                dz (the change in displacement in the z-direction).\n",
    "                dims (the number of dimensions for our image of interest).\n",
    "        Returns: a matrix that represents the translation of an image.\n",
    "    '''\n",
    "    \n",
    "    # 2D Image Translation\n",
    "    if dims == 2:\n",
    "        translation_matrix = np.array([[1, 0, dx], \n",
    "                                       [0, 1, dy], \n",
    "                                       [0, 0, 1]])\n",
    "    \n",
    "    # 3D Image Translation\n",
    "    elif dims == 3:\n",
    "        translation_matrix = np.array([[1, 0, 0, dx],\n",
    "                                       [0, 1, 0, dy],\n",
    "                                       [0, 0, 1, dz], \n",
    "                                       [0, 0, 0, 1]])\n",
    "\n",
    "    return translation_matrix"
   ]
  },
  {
   "cell_type": "markdown",
   "metadata": {},
   "source": [
    "#### Scale"
   ]
  },
  {
   "cell_type": "code",
   "execution_count": 10,
   "metadata": {},
   "outputs": [],
   "source": [
    "def create_scale_matrix(scaleX, scaleY, dims = 2):\n",
    "    '''\n",
    "        This function creates a scale matrix to which we can can apply to images by specifying the \n",
    "        amount of scale to the image's x and y axes.\n",
    "\n",
    "        Params: scaleX (the amount of scale in the image's x axis).\n",
    "                scaleY (the amount of scale in the image's y axis).\n",
    "                dims (the number of dimensions for our image of interest).\n",
    "        Returns: a matrix that represents the scale of an image.\n",
    "    '''\n",
    "\n",
    "    # Directly compute the scale matrix\n",
    "    scale_matrix = np.array([[scaleX, 0, 0],\n",
    "                             [0, scaleY, 0],\n",
    "                             [0, 0, 1]])\n",
    "\n",
    "    return scale_matrix"
   ]
  },
  {
   "cell_type": "markdown",
   "metadata": {},
   "source": [
    "#### Skew"
   ]
  },
  {
   "cell_type": "code",
   "execution_count": 9,
   "metadata": {},
   "outputs": [],
   "source": [
    "def create_skew_matrix(skew_amt, dims = 2):\n",
    "    '''\n",
    "        This function creates a skew matrix to which we can apply to images by specifying\n",
    "        the extent of the skew in the horizontal and vertical directions.\n",
    "\n",
    "        Params: skew_amt (the amount of skew specified as a numerical value).\n",
    "                dims (the number of dimensions for our image of interest).\n",
    "        Returns: a matrix that represents the skew of an image (one for horizontal, one for vertical).\n",
    "    '''\n",
    "\n",
    "    # Horizontal Skew\n",
    "    skew_matrix_X = np.array([[1, skew_amt, 0],\n",
    "                            [0, 1, 0],\n",
    "                            [0, 0, 1]])\n",
    "    \n",
    "    # Vertical Skew\n",
    "    skew_matrix_Y = np.array([[1, 0, 0],\n",
    "                              [skew_amt, 1, 0],\n",
    "                              [0, 0, 1]])\n",
    "    \n",
    "    return skew_matrix_X, skew_matrix_Y"
   ]
  },
  {
   "cell_type": "markdown",
   "metadata": {},
   "source": [
    "#### Warp"
   ]
  },
  {
   "cell_type": "code",
   "execution_count": 11,
   "metadata": {},
   "outputs": [],
   "source": [
    "def create_warp_matrix(warp_x, warp_y, dims=2):\n",
    "    '''\n",
    "        This function creates a warp matrix to which we can apply to images by specifying\n",
    "        the amount of warping in the x and y axes.\n",
    "\n",
    "        Params: warp_x (the amount of warping in the horizontal direction).\n",
    "                warp_y (the amount of warping in the vertical direction).\n",
    "                dims (the number of dimensions for our image of interest).\n",
    "        Returns: a matrix that represents the warping of an image.\n",
    "    '''\n",
    "\n",
    "    # Compute the warp matrix\n",
    "    warp_matrix = np.array([[1, 0 , 0], \n",
    "                            [0, 1, 0],\n",
    "                            [warp_x, warp_y, 1]])\n",
    "    \n",
    "    return warp_matrix"
   ]
  },
  {
   "cell_type": "markdown",
   "metadata": {},
   "source": [
    "### We have our functions that apply various different transformations to images. Now, we can create functions that apply a transformation to an image! \n",
    "\n",
    "This makes it easier to read and understand what is going on rather than simplying creating long, chunked-up pieces of code."
   ]
  },
  {
   "cell_type": "code",
   "execution_count": 18,
   "metadata": {},
   "outputs": [],
   "source": [
    "def apply_transformation(tensor, transformation):\n",
    "    '''\n",
    "        Applies a transformation to a particular tensor (image tensor) and returns the transformed tensor.\n",
    "\n",
    "        Params: tensor (nx2 or nx3 tensor that represents our image).\n",
    "                transformation (a specific transformation matrix specified by the transformation functions defined above).\n",
    "        Returns: another version of the input tensor, this time with the applied transformation; should retain initial dimensions.\n",
    "    '''\n",
    "\n",
    "    # Print for debugging purposes\n",
    "    print(\"transformation.shape: \", transformation.shape)\n",
    "    print(\"input.shape: \", tensor.shape)\n",
    "\n",
    "    return np.matmul(transformation, tensor.T).T"
   ]
  },
  {
   "cell_type": "code",
   "execution_count": 13,
   "metadata": {},
   "outputs": [],
   "source": [
    "def create_affine_transformation():\n",
    "    '''\n",
    "        This function creates an affine transformation matrix that can be applied to images.\n",
    "        It takes in individual transformation matrices, combines their effects, and applies the resulting\n",
    "        matrix to images of interest.\n",
    "\n",
    "        Params: None (instead, the functions that generate individual transformation matrices are called).\n",
    "        Returns: an affine transformation matrix with the combined effects of the individual transformations.\n",
    "    '''\n",
    "    \n",
    "    # Rotation\n",
    "    rotation_matrix = create_rotation_matrix_clockwise(45)      # Degrees are chosen by the user\n",
    "\n",
    "    # Translation\n",
    "    translation_matrix = create_translation_matrix(5, 10)        # dx, dy, and dz are chosen by the user\n",
    "\n",
    "    # Scale\n",
    "    scaling_matrix = create_scale_matrix(1, 2)                  # scaleX, scaleY are chosen by the user\n",
    "\n",
    "    # Skew\n",
    "    skew_matrix_X, skew_matrix_Y = create_skew_matrix(0)        # Skew amount is chosen by the user\n",
    "\n",
    "\n",
    "    # Debugging print statements below\n",
    "\n",
    "    # print(np.matmul(rotation_matrix, translation_matrix))\n",
    "\n",
    "    # print(\"Rotation matrix\")\n",
    "    # print(rotation_matrix)\n",
    "    # print(\"Translation matrix\")\n",
    "    # print(translation_matrix)\n",
    "    # print(\"scaling matrix\")\n",
    "    # print(scaling_matrix)\n",
    "    # print(\"skew matrices\")\n",
    "    # print(skew_matrix_X)\n",
    "    # print(skew_matrix_Y)\n",
    "\n",
    "    # print(rotation_matrix.shape)\n",
    "    # print(translation_matrix.shape)\n",
    "    # print(scaling_matrix.shape)\n",
    "    # print(skew_matrix_X.shape)\n",
    "    # print(skew_matrix_Y.shape)\n",
    "\n",
    "\n",
    "    # Combine the individual effects of transformations to create affine effect\n",
    "    affine_transformation = functools.reduce(np.matmul, [translation_matrix, skew_matrix_X, scaling_matrix, rotation_matrix])\n",
    "\n",
    "    return affine_transformation"
   ]
  },
  {
   "cell_type": "code",
   "execution_count": 20,
   "metadata": {},
   "outputs": [],
   "source": [
    "def create_homography_transformation():\n",
    "    '''\n",
    "        This function creates a custom homography matrix (3x3) by combining the effects of the rotation, translation, \n",
    "        scaling, skew, and warping transformations.\n",
    "\n",
    "        Note: the input values for each of these transformations must be inputted manually by the user to receive their\n",
    "              desired image transformation (aka affine transformation matrix).\n",
    "    '''\n",
    "    \n",
    "    # Rotation\n",
    "    rotation_matrix = create_rotation_matrix_clockwise(90)\n",
    "\n",
    "    # Translation\n",
    "    translation_matrix = create_translation_matrix(0, 0)\n",
    "\n",
    "    # Scale\n",
    "    scaling_matrix = create_scale_matrix(1, 1)\n",
    "\n",
    "    # Skew\n",
    "    skew_matrix_X, skew_matrix_Y = create_skew_matrix(0)\n",
    "\n",
    "    # Warp\n",
    "    warp_matrix = create_warp_matrix(1, 3)\n",
    "\n",
    "    # Combine the individual effects of transformations to create homography effect\n",
    "    homography = functools.reduce(np.matmul, [translation_matrix, skew_matrix_X, scaling_matrix, rotation_matrix, warp_matrix])\n",
    "\n",
    "    return homography"
   ]
  },
  {
   "cell_type": "markdown",
   "metadata": {},
   "source": [
    "#### Let's try using the functions we just created in a simple application!"
   ]
  },
  {
   "cell_type": "code",
   "execution_count": 23,
   "metadata": {},
   "outputs": [
    {
     "name": "stdout",
     "output_type": "stream",
     "text": [
      "Our homography matrix:\n",
      "[[ 6.123234e-17 -1.000000e+00  0.000000e+00]\n",
      " [ 1.000000e+00  6.123234e-17  0.000000e+00]\n",
      " [ 1.000000e+00  3.000000e+00  1.000000e+00]]\n",
      "transformation.shape:  (3, 3)\n",
      "input.shape:  (2500, 3)\n",
      "points_3D_original.shape (2500, 3)\n",
      "transformation.shape:  (3, 3)\n",
      "input.shape:  (2500, 3)\n",
      "Our homography's determinant: 1.0\n"
     ]
    }
   ],
   "source": [
    "# The number of points along the x and y directions in our plane\n",
    "num_points = 50\n",
    "\n",
    "# Set the boundaries of the square we are creating (these constants are defined by the user)\n",
    "min_x = -1\n",
    "max_x = 1\n",
    "\n",
    "min_y = -1\n",
    "max_y = 1\n",
    "\n",
    "z_value = 1\n",
    "z_value_transformation = 2\n",
    "\n",
    "# Create a grid of x and y values that will be the points of our \"plane\"\n",
    "x_plane = np.linspace(min_x, max_x, num_points)\n",
    "y_plane = np.linspace(min_y, max_y, num_points)\n",
    "\n",
    "X_grid, Y_grid = np.meshgrid(x_plane, y_plane)\n",
    "X_grid = X_grid.reshape((-1, 1))\n",
    "Y_grid = Y_grid.reshape((-1, 1))\n",
    "Z_grid = np.full(X_grid.shape, z_value)\n",
    "\n",
    "# Obtain the generated points in a 3D space\n",
    "points_3D_original = np.concatenate((X_grid, Y_grid, Z_grid), axis=1)\n",
    "\n",
    "# Obtain the 2D points by removing the third dimension\n",
    "points_2D_original = get_rid_of_z_dimension(points_3D_original)\n",
    "\n",
    "# Create our custom transformation matrices\n",
    "affine_transformation = create_affine_transformation()\n",
    "homography = create_homography_transformation()\n",
    "print(f'Our homography matrix:')\n",
    "print(homography)\n",
    "\n",
    "# Apply our affine transformation to the 3D object\n",
    "points_3D_affine = apply_transformation(points_3D_original, affine_transformation)\n",
    "print(\"points_3D_original.shape\", points_3D_original.shape)\n",
    "\n",
    "# Apply our homography transformation to the 3D object\n",
    "points_3D_homography = apply_transformation(points_3D_original, homography)\n",
    "homography_determinant = np.linalg.det(homography)\n",
    "print(f\"Our homography's determinant: {homography_determinant}\")\n",
    "\n",
    "# Remove the third dimension of our 3D affine transformation\n",
    "points_2D_affine = get_rid_of_z_dimension(points_3D_affine)\n",
    "\n",
    "# Remove the third dimension of our 3D homography transformation\n",
    "points_2D_homography = get_rid_of_z_dimension(points_3D_homography)"
   ]
  },
  {
   "cell_type": "markdown",
   "metadata": {},
   "source": [
    "#### We cannot plot these transformations just yet since we haven't defined a way for us to retrieve the homogeneous coordinates of an object between different planes.\n",
    "\n",
    "#### Let's create a function that can allow us to apply these homogeneous coordinates to our image(s)!"
   ]
  },
  {
   "cell_type": "code",
   "execution_count": 24,
   "metadata": {},
   "outputs": [],
   "source": [
    "DEFAULT_HOMOGENOUS_COORDINATE = 1           # User-selected homogeneous coordinate (default)\n",
    "\n",
    "def get_homogenous_img_coordinates(img):\n",
    "    '''\n",
    "        This function derives the homogeneous coordinates of an image or particular object of interest in order to\n",
    "        apply homography transformations.\n",
    "\n",
    "        Params: img (an image tensor containing the object of interest).\n",
    "        Returns: the new image coordinates of the input image as a tensor after adding in the homogeneous coordinates.\n",
    "    '''\n",
    "\n",
    "    (width, height) = img.shape\n",
    "    X, Y = np.mgrid[0:width, 0:height]\n",
    "\n",
    "    X = X.reshape((-1, 1))\n",
    "    Y = Y.reshape((-1, 1))\n",
    "\n",
    "    homogenous_coordinates = np.full(X.shape, DEFAULT_HOMOGENOUS_COORDINATE)\n",
    "\n",
    "    # Add the homogeneous coordinates to the end of the image matrix/vector\n",
    "    img_coordinates = np.concatenate((X, Y, homogenous_coordinates), axis=1)\n",
    "    \n",
    "    print(\"img_coordinates.shape: \",img_coordinates.shape)\n",
    "    return img_coordinates"
   ]
  },
  {
   "cell_type": "markdown",
   "metadata": {},
   "source": [
    "#### Now that we have our newly generated image coordinates, we can create functions that will plot our new image in a 3D or 2D space."
   ]
  },
  {
   "cell_type": "code",
   "execution_count": null,
   "metadata": {},
   "outputs": [],
   "source": [
    "SCATTER_DOT_SIZE = 5\n",
    "\n",
    "def plot_image_3D(img_coordinates, img_color):\n",
    "    '''\n",
    "        This function plots an image into a 3D plane.\n",
    "        This function depends on deriving the new image coordinates (after applying the homography coordinates to the image).\n",
    "\n",
    "        Params: img_coordinates (the image coordinates including the homography coordinates at its end).\n",
    "                img_color (the color of the image that we desire).\n",
    "        Returns: None (but displays the image onto a 3D plane).\n",
    "    '''\n",
    "\n",
    "    cmap_colors = [(1, 'red'), (1, 'blue'), (1, 'green')]  # Colors for the combined dimension\n",
    "    custom_cmap = LinearSegmentedColormap.from_list('custom', cmap_colors)\n",
    "\n",
    "    # Prepare the plot\n",
    "    fig = plt.figure()\n",
    "    ax = fig.add_subplot(111, projection='3d')\n",
    "    \n",
    "    # Fill in the image onto the 3D plane point-by-point\n",
    "    ax.scatter(img_coordinates[:,0],img_coordinates[:,1], img_coordinates[:,2], c=img_color, cmap=plt.cm.gray, s=SCATTER_DOT_SIZE) # lineWidth parameter causes errors (DON'T USE!)\n",
    "    plt.show()\n",
    "\n",
    "\n",
    "def plot_image_2D(img_coordinates, img_color):\n",
    "    '''\n",
    "        This function plots an image into a 2D plane.\n",
    "        This function depends on deriving the new image coordinates (after applying the homography coordinates to the image).\n",
    "\n",
    "        Params: img_coordinates (the image coordinates including the homography coordinates at its end).\n",
    "                img_color (the color of the image that we desire).\n",
    "        Returns: None (but displays the image onto a 2D plane).\n",
    "    '''\n",
    "\n",
    "    cmap_colors = [(1, 'red'), (1, 'blue'), (1, 'green')]  # Colors for the combined dimension\n",
    "    custom_cmap = LinearSegmentedColormap.from_list('custom', cmap_colors)\n",
    "\n",
    "    # Prepare the plot\n",
    "    fig = plt.figure()\n",
    "    ax = fig.add_subplot(111)\n",
    "    \n",
    "    # Fill in the image onto the 3D plane point-by-point\n",
    "    ax.scatter(img_coordinates[:,0],img_coordinates[:,1], c=img_color, cmap=plt.cm.gray, s=SCATTER_DOT_SIZE) # lineWidth parameter causes errors (DON'T USE!)\n",
    "    plt.show()"
   ]
  },
  {
   "cell_type": "markdown",
   "metadata": {},
   "source": [
    "#### We have shown how we can plot images onto a new plane after incorporating homography coordinates to the image itself.\n",
    "\n",
    "#### However, if we want to analyze the projection process on a deeper level, we can't really see that by simply just plotting image tensors. To tackle this problem, we can create functions that help us project these adjusted image coordinates onto a plane, specifically in a 2D space!"
   ]
  },
  {
   "cell_type": "markdown",
   "metadata": {},
   "source": [
    "#### Projecting a tensor onto a plane requires normalization of the tensor itself, which we will define first."
   ]
  },
  {
   "cell_type": "code",
   "execution_count": 25,
   "metadata": {},
   "outputs": [],
   "source": [
    "def get_normal_vector(plane_coordinates):\n",
    "    '''\n",
    "        This function computes the coordinates of a normal vector in a particular plane.\n",
    "\n",
    "        Params: plane_coordinates (3 points chosen from a plane of interest).\n",
    "        Returns: a normal unit vector within the same input plane.\n",
    "    '''\n",
    "\n",
    "    # We compute the equation for the normal vector of a plane from 3 points\n",
    "    # by using the cross product\n",
    "    coord1 = plane_coordinates[1,:]\n",
    "    coord2 = plane_coordinates[2,:]\n",
    "    coord3 = plane_coordinates[3,:]\n",
    "    \n",
    "    vector1 = coord1-coord2 \n",
    "    vector2 = coord2-coord3\n",
    "\n",
    "    normal = np.cross(vector1, vector2)\n",
    "    normal_unit_vec = normal / np.linalg.norm(normal)\n",
    "    return normal_unit_vec"
   ]
  },
  {
   "cell_type": "markdown",
   "metadata": {},
   "source": [
    "#### With this function, we can now retrieve a 2D projection using the homogeneous coordinates we derived earlier."
   ]
  },
  {
   "cell_type": "code",
   "execution_count": null,
   "metadata": {},
   "outputs": [],
   "source": [
    "def project_to_2D(homog_coord):\n",
    "    '''\n",
    "        This function retrieves a 2D projection of a particular image in a 2D plane.\n",
    "        We can simply perform this operation by dividing the homogeneous coordinates by the z-dimension. \n",
    "        \n",
    "        Note: we are assuming to project onto a plane where the rays would go through the origin\n",
    "              and there's only one set of planes where we can do this (the planes centered around and facing the origin).\n",
    "\n",
    "              We also expect the input homogeneous coordinates to be of the form (N*M)x3 where N is the number of rows\n",
    "              and M is the number of columns of the image. Hence, the resulting projection should have N*M rows and 3 columns.\n",
    "            \n",
    "        Params: the homogeneous coordinates of an image.\n",
    "        Returns: a 2D projection vector of our image.\n",
    "    '''\n",
    "    \n",
    "    Z_DIM_INDEX = 2\n",
    "\n",
    "    z_dimension = homog_coord[:,Z_DIM_INDEX].reshape(-1, 1)\n",
    "    projection_2D = homog_coord/z_dimension     # Simply divide the homogeneous coords by the z-dimension\n",
    "\n",
    "    return projection_2D"
   ]
  },
  {
   "cell_type": "markdown",
   "metadata": {},
   "source": [
    "#### So far, we have defined functions that applies a transformation to an image and projects the image from a 3D -> 2D space.\n",
    "\n",
    "#### What if we want to reverse the transformations applied to our image (to return to its original state)?\n",
    "\n",
    "#### We can develop a series of metrics and functions to apply a reverse transform!"
   ]
  },
  {
   "cell_type": "markdown",
   "metadata": {},
   "source": [
    "#### The first step requires retrieving the min and max sequence of cells in order to obtain the limits (or bounding box) of the transformations."
   ]
  },
  {
   "cell_type": "code",
   "execution_count": null,
   "metadata": {},
   "outputs": [],
   "source": [
    "def get_min_and_max(transformation_output):\n",
    "    '''\n",
    "        This function retrieves the maximum and minimum coordinates of the transformed image coordinates. \n",
    "        This is a helper function to the reverse transformation method defined below.\n",
    "\n",
    "        Params: transformation_output (a numpy array - could be 2D or 3D - that represents the coordinates of our transformed image).\n",
    "        Returns: two x, y coordinates - one representing the minimum x, y pair and the other representing the max x, y pair.\n",
    "    '''\n",
    "\n",
    "    # Rows > Cols\n",
    "    if transformation_output.shape[0] > transformation_output.shape[1]:\n",
    "        min_x = np.min(transformation_output[:,0]).astype(int)\n",
    "        max_x = np.max(transformation_output[:,0]).astype(int)\n",
    "\n",
    "        min_y = np.min(transformation_output[:,1]).astype(int)\n",
    "        max_y = np.max(transformation_output[:,1]).astype(int)\n",
    "\n",
    "    # Cols >= Rows\n",
    "    else:\n",
    "        min_x = np.min(transformation_output[0,:]).astype(int)\n",
    "        max_x = np.max(transformation_output[0,:]).astype(int)\n",
    "\n",
    "        min_y = np.min(transformation_output[1,:]).astype(int)\n",
    "        max_y = np.max(transformation_output[1,:]).astype(int)\n",
    "    \n",
    "    # Return coords in tuple fashion\n",
    "    min_tuple = (min_x, min_y)\n",
    "    max_tuple = (max_x, max_y)\n",
    "\n",
    "    return min_tuple, max_tuple"
   ]
  },
  {
   "cell_type": "markdown",
   "metadata": {},
   "source": [
    "#### We have the max and min coordinates of our transformed image. Let us define our reverse transformation method using `Raster Scan Reverse Transform`."
   ]
  },
  {
   "cell_type": "code",
   "execution_count": null,
   "metadata": {},
   "outputs": [],
   "source": [
    "def raster_scan_reverse_transform(original_image, homogenous_input, homogenous_color_map, transform):\n",
    "    '''\n",
    "        This function applies the Raster Scan Reverse Transform to revert the transformation effects of our image.\n",
    "\n",
    "    '''\n",
    "\n",
    "    \"\"\"\n",
    "    Takes a set up of homogenous coordinates, a color map for those coordinates,\n",
    "    and a transform to apply to those coordinates. Applies the transform to get \n",
    "    the output coordinates and gets a pair of the min x & y values and the max \n",
    "    x & y values (after dividing by the homogenous coordinate). It then \n",
    "    raster scans through all values in between (like its scanning through\n",
    "    a bounding box) and applies the reverse transform. We then get the color\n",
    "    value at the reverse transform location and give the coordinate in our output\n",
    "    space that color value.\n",
    "    Parameters:\n",
    "        - original_image (np.array): original input, of the form h*w (height*width)\n",
    "        - homogenous_input (np.array): coordinates of original input, of the form \n",
    "            height*width*3 (3 is for x, y, and z coord)\n",
    "        - homogenous_colormap (np.array): maps a color to each of the indices in\n",
    "            homogenous_input. of the form height*width*1\n",
    "        - transform (np.array): the transform to apply to the homogenous_input\n",
    "    Returns:\n",
    "        - homogenous_output (np.array) the output coordinates that we raster scanned through\n",
    "        - homogenous_output_color_map (np.array) the color map for the output\n",
    "    \"\"\"\n",
    "\n",
    "    # Apply the transform to the homogenous_input\n",
    "    output = apply_transformation(homogenous_input, transform)\n",
    "    # Divide by the z coordinate\n",
    "    output_homography = project_to_2D(output)\n",
    "    print(\"Output shape: \", output.shape)\n",
    "    print(\"output_homography shape: \", output_homography.shape)\n",
    "    # Bottom left and top right of bounding box to rasterize\n",
    "    bottom_left, top_right = get_min_and_max(output_homography)\n",
    "    print(\"bottom_left\", bottom_left)\n",
    "    print(\"top_right\", top_right)\n",
    "    # Iterate through from bottom_left to top_right"
   ]
  }
 ],
 "metadata": {
  "kernelspec": {
   "display_name": "Python 3",
   "language": "python",
   "name": "python3"
  },
  "language_info": {
   "codemirror_mode": {
    "name": "ipython",
    "version": 3
   },
   "file_extension": ".py",
   "mimetype": "text/x-python",
   "name": "python",
   "nbconvert_exporter": "python",
   "pygments_lexer": "ipython3",
   "version": "3.11.5"
  }
 },
 "nbformat": 4,
 "nbformat_minor": 2
}
